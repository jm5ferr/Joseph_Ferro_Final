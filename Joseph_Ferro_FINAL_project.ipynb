{
 "cells": [
  {
   "cell_type": "markdown",
   "metadata": {},
   "source": [
    "# Final project\n",
    "\n",
    "**Can you escape a velociraptor?**\n",
    "\n",
    "Your goal is to figure out whether or not a velociraptor will catch you or if you can outrun it!\n",
    "\n",
    "## Problem 1. Position vs. time\n",
    "\n",
    "Suppose a velociraptor can run 18 m/s. And suppose you can run at 3 m/s, but you have a 30 meter head start. Assume that you and the 'raptor accelerate so quickly that you can ignore acceleration. \n",
    "\n",
    "Make a plot of the position vs. time for both you and the 'raptor (plot both on the same figure). Clearly label all axes and give the plot a legend. Plot over a suitable time frame. Save the figure as a .png file. \n",
    "\n",
    "*This plot will be included in your write-up*."
   ]
  },
  {
   "cell_type": "code",
   "execution_count": 40,
   "metadata": {
    "collapsed": false
   },
   "outputs": [
    {
     "data": {
      "text/plain": [
       "<matplotlib.legend.Legend at 0x107b42c90>"
      ]
     },
     "execution_count": 40,
     "metadata": {},
     "output_type": "execute_result"
    },
    {
     "data": {
      "image/png": "[encoded data removed]",
      "text/plain": [
       "<matplotlib.figure.Figure at 0x106c7c450>"
      ]
     },
     "metadata": {},
     "output_type": "display_data"
    }
   ],
   "source": [
    "# First we import the matplotlib plotting tools in the suggested fashion.\n",
    "\n",
    "import matplotlib.pylab as plt\n",
    "\n",
    "\n",
    "%matplotlib inline\n",
    "import numpy as np\n",
    "\n",
    "t = np.linspace(0,20,10000) \n",
    "yh = 3*(t) + 30 \n",
    "yr = 18*(t) + 0  \n",
    "\n",
    "\n",
    "plt.plot(t,yh,'r-',linewidth=2,label='Human')\n",
    "plt.plot(t,yr,'g-',linewidth=2,label='Veloceraptor')\n",
    "\n",
    "\n",
    "plt.xlabel('Time(s)',fontsize=18)\n",
    "plt.ylabel('Position (m)',fontsize=18)\n",
    "\n",
    "\n",
    "\n",
    "plt.xlim(0,15) \n",
    "plt.ylim(0,200)\n",
    "\n",
    "\n",
    "plt.title(\"Will He/She be Eaten\")\n",
    "\n",
    "# Add a legend.\n",
    "plt.legend()\n",
    "\n"
   ]
  },
  {
   "cell_type": "markdown",
   "metadata": {},
   "source": [
    "## Problem 2. When does the 'raptor catch up to you?\n",
    "\n",
    "Use your code to figure out when the raptor catches up to you. Both how much time has passed and how far *you* have run.  \n",
    "\n",
    "Do not just get this information off the graph. Use your Python code to figure this out! Getting the information just by looking at the plot will result in a 0 for this question. You can use an analytic approach (algebra) to check your answer, but that is not the approach I want you to use. Depending on how you write your code, you might not get an *exact* answer, but you should find a way to get pretty close to the algebraic solution. "
   ]
  },
  {
   "cell_type": "code",
   "execution_count": 41,
   "metadata": {
    "collapsed": false
   },
   "outputs": [
    {
     "name": "stdout",
     "output_type": "stream",
     "text": [
      "\n"
     ]
    }
   ],
   "source": [
    "\n",
    "        \n",
    "\n",
    "nyh = len(yh)\n",
    "print\n",
    "nyr = len(yr)\n",
    "\n",
    "#print nyh\n",
    "#print\n",
    "#print nyr\n",
    "\n",
    "for i in range(nyh):\n",
    "    if yh[i] == yr[i]:\n",
    "        #print yh\n",
    "\n",
    "        print \"Postition of Human: %f Position of Velociraptor: %f Time: %f\" % (yh[i], yr[i],t[i])\n",
    "        \n",
    "#print yh\n",
    "#print\n",
    "#print yr\n",
    "\n"
   ]
  },
  {
   "cell_type": "markdown",
   "metadata": {},
   "source": [
    "## Problem 3. When is it close enough to strike?\n",
    "\n",
    "It turns out the 'raptor will start trying to attack when it is 1 meter away. How much time has passed and how far have you run when it is 1 meter behind you? Use a similar approach as the last problem. \n",
    "\n",
    "***Also make a new copy of the above plot, but label (with a line or arrow or whatever you want) the point at which the raptor is 1 meter behind you.***"
   ]
  },
  {
   "cell_type": "code",
   "execution_count": 45,
   "metadata": {
    "collapsed": false,
    "scrolled": true
   },
   "outputs": [
    {
     "name": "stdout",
     "output_type": "stream",
     "text": [
      "Postition of Human: 35.802580 Position of Velociraptor: 34.815482 Time: 1.934193\n",
      "1.93419341934\n"
     ]
    },
    {
     "data": {
      "text/plain": [
       "<matplotlib.legend.Legend at 0x106d64fd0>"
      ]
     },
     "execution_count": 45,
     "metadata": {},
     "output_type": "execute_result"
    },
    {
     "data": {
      "image/png": "[encoded data removed]",
      "text/plain": [
       "<matplotlib.figure.Figure at 0x107e73410>"
      ]
     },
     "metadata": {},
     "output_type": "display_data"
    }
   ],
   "source": [
    "# Your code here. \n",
    "td = 0\n",
    "\n",
    "for i in range (len(yh)):\n",
    "    \n",
    "    if yh[i]-yr[i]<1: #>1 and yh[i]-yr[i]<1.4:\n",
    "        \n",
    "        td = t[i]\n",
    "        print \"Postition of Human: %f Position of Velociraptor: %f Time: %f\" %(yh[i], yr[i],t[i])\n",
    "        break\n",
    "        \n",
    "import matplotlib.pylab as plt\n",
    "print td\n",
    "# This next line makes sure the plots appear in the Notebook, and not as separate windows.\n",
    "%matplotlib inline\n",
    "import numpy as np\n",
    "\n",
    "t = np.linspace(0,20,10000) # Generate 10 evenly spaced points.\n",
    "yh = 3*t + 30  # person  Starts at 30 \n",
    "yr = 18*t + 0  # raptor  Starts from rest        \n",
    "\n",
    "\n",
    "plt.plot(t,yh,'r-',linewidth=2,label='Human')\n",
    "plt.plot(t,yr,'g-',linewidth=2,label='Veloceraptor')\n",
    "plt.plot([td,td],[0,200],'m-',linewidth=2,label='Velocerapter 1 Meter Away')\n",
    "# Add labels with a bigger font than the default.\n",
    "plt.xlabel('Time(s)',fontsize=18)\n",
    "plt.ylabel('Position (m)',fontsize=18)\n",
    "\n",
    "\n",
    "\n",
    "\n",
    "plt.xlim(0,15) \n",
    "plt.ylim(0,200)\n",
    "\n",
    "\n",
    "plt.title(\"Will He/She be Eaten\")\n",
    "\n",
    "# Add a legend.\n",
    "plt.legend()\n",
    "\n",
    "    "
   ]
  },
  {
   "cell_type": "markdown",
   "metadata": {},
   "source": [
    "## Problem 4. Will it bite you?\n",
    "\n",
    "When the 'raptor is 1 meter away, it will try to bite you. If it doesn't bite you, it will try a second and (if necessary) a third time. If it doesn't get you on the third try, it will grow frustrated and stop chasing you. Hurray!\n",
    "\n",
    "Suppose the first time it tries, there is a 20% chance it will bite you. If it misses and it needs to try a second time, there is only a 15% chance, and if it misses *that* time, there is only a 7% chance on the third try. \n",
    "\n",
    "If it bites you once, you're 'raptor food. If it misses all three times, you get away!\n",
    "\n",
    "What is the probability that you will get away?\n"
   ]
  },
  {
   "cell_type": "code",
   "execution_count": null,
   "metadata": {
    "collapsed": true
   },
   "outputs": [],
   "source": []
  },
  {
   "cell_type": "code",
   "execution_count": 50,
   "metadata": {
    "collapsed": false
   },
   "outputs": [
    {
     "name": "stdout",
     "output_type": "stream",
     "text": [
      "63.437\n",
      "the probability that you will get away is 63.44 percent \n"
     ]
    }
   ],
   "source": [
    "# Your code here\n",
    "npts = 1000\n",
    "t = np.random.random(1)\n",
    "x=0\n",
    "for i in range (0,100000):\n",
    "    t = np.random.random(1)\n",
    "    if t[0]>.2:\n",
    "        \n",
    "        t = np.random.random(1)\n",
    "        if t[0]> .15:\n",
    "            t = np.random.random(1)\n",
    "            if t[0]> .07:\n",
    "                x =x+1\n",
    "\n",
    "p = (x/100000.0) * 100.0\n",
    "print p \n",
    "print \"the probability that you will get away is %.2f percent \" %p"
   ]
  },
  {
   "cell_type": "code",
   "execution_count": null,
   "metadata": {
    "collapsed": true
   },
   "outputs": [],
   "source": []
  },
  {
   "cell_type": "code",
   "execution_count": null,
   "metadata": {
    "collapsed": true
   },
   "outputs": [],
   "source": []
  },
  {
   "cell_type": "code",
   "execution_count": null,
   "metadata": {
    "collapsed": true
   },
   "outputs": [],
   "source": []
  },
  {
   "cell_type": "code",
   "execution_count": null,
   "metadata": {
    "collapsed": true
   },
   "outputs": [],
   "source": []
  },
  {
   "cell_type": "code",
   "execution_count": null,
   "metadata": {
    "collapsed": true
   },
   "outputs": [],
   "source": []
  },
  {
   "cell_type": "code",
   "execution_count": null,
   "metadata": {
    "collapsed": true
   },
   "outputs": [],
   "source": []
  },
  {
   "cell_type": "code",
   "execution_count": null,
   "metadata": {
    "collapsed": true
   },
   "outputs": [],
   "source": []
  },
  {
   "cell_type": "code",
   "execution_count": null,
   "metadata": {
    "collapsed": true
   },
   "outputs": [],
   "source": []
  },
  {
   "cell_type": "code",
   "execution_count": null,
   "metadata": {
    "collapsed": true
   },
   "outputs": [],
   "source": []
  },
  {
   "cell_type": "code",
   "execution_count": null,
   "metadata": {
    "collapsed": true
   },
   "outputs": [],
   "source": []
  },
  {
   "cell_type": "code",
   "execution_count": null,
   "metadata": {
    "collapsed": true
   },
   "outputs": [],
   "source": []
  },
  {
   "cell_type": "code",
   "execution_count": null,
   "metadata": {
    "collapsed": true
   },
   "outputs": [],
   "source": []
  }
 ],
 "metadata": {
  "kernelspec": {
   "display_name": "Python 2",
   "language": "python",
   "name": "python2"
  },
  "language_info": {
   "codemirror_mode": {
    "name": "ipython",
    "version": 2
   },
   "file_extension": ".py",
   "mimetype": "text/x-python",
   "name": "python",
   "nbconvert_exporter": "python",
   "pygments_lexer": "ipython2",
   "version": "2.7.10"
  }
 },
 "nbformat": 4,
 "nbformat_minor": 0
}
